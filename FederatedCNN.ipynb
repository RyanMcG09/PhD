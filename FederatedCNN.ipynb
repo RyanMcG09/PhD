{
 "cells": [
  {
   "cell_type": "markdown",
   "id": "95b1aba2",
   "metadata": {},
   "source": [
    "# Studying a Federated System"
   ]
  },
  {
   "cell_type": "markdown",
   "id": "c81ca757",
   "metadata": {},
   "source": [
    "Following on from our work creating a federated system using CNN as a model, this jupyter file was created to play around with a federated system and get different results"
   ]
  },
  {
   "cell_type": "markdown",
   "id": "8c9b1201",
   "metadata": {},
   "source": [
    "Importing Section"
   ]
  },
  {
   "cell_type": "code",
   "execution_count": 64,
   "id": "1b425caa",
   "metadata": {},
   "outputs": [],
   "source": [
    "import os    \n",
    "os.environ['KMP_DUPLICATE_LIB_OK'] = 'True'\n",
    "import numpy as np\n",
    "import matplotlib.pyplot as plt\n",
    "import pandas as pd\n",
    "import csv\n",
    "from sklearn import preprocessing\n",
    "from sklearn import metrics\n",
    "from keras.datasets import mnist\n",
    "import tensorflow as tf\n",
    "from tensorflow.keras import datasets, layers, models\n",
    "import random\n",
    "import csv\n",
    "import timeit\n",
    "from timeit import default_timer as timer"
   ]
  },
  {
   "cell_type": "markdown",
   "id": "e618d7ef",
   "metadata": {},
   "source": [
    "Obtaining training and testing data"
   ]
  },
  {
   "cell_type": "code",
   "execution_count": 59,
   "id": "f76abb1b",
   "metadata": {},
   "outputs": [],
   "source": [
    "class_names = ['airplane', 'automobile', 'bird', 'cat', 'deer','dog', 'frog', 'horse', 'ship', 'truck']\n",
    "(train_images, train_labels), (test_images, test_labels) = datasets.cifar10.load_data()\n",
    "train_images, test_images = train_images / 255.0, test_images / 255.0"
   ]
  },
  {
   "cell_type": "markdown",
   "id": "f0d68ee6",
   "metadata": {},
   "source": [
    "All of the functions needed to run the code, see the previous document for more information on how each function was created"
   ]
  },
  {
   "cell_type": "code",
   "execution_count": 69,
   "id": "b9c2216d",
   "metadata": {},
   "outputs": [],
   "source": [
    "def splittingData(x_train,y_train,x_test,y_test,noClients):\n",
    "    if (len(x_train) % noClients != 0):\n",
    "        print(\"Data does not divide Equally\")\n",
    "        return 0,0,0,0\n",
    "    trainLen = len(x_train)\n",
    "    clientSize = trainLen/noClients\n",
    "    \n",
    "    x_train_clients = []\n",
    "    y_train_clients = []\n",
    "    x_test_clients = []\n",
    "    y_test_clients = []\n",
    "    \n",
    "    x_train_splits = np.split(x_train,noClients)\n",
    "    y_train_splits = np.split(y_train,noClients)\n",
    "    x_test_splits = np.split(x_test,noClients)\n",
    "    y_test_splits = np.split(y_test,noClients)\n",
    "    \n",
    "    for i in range(noClients):\n",
    "        x_train_clients.append(x_train_splits[i])\n",
    "        y_train_clients.append(y_train_splits[i])\n",
    "        x_test_clients.append(x_test_splits[i])\n",
    "        y_test_clients.append(y_test_splits[i])\n",
    "    \n",
    "    return x_train_clients, y_train_clients, x_test_clients, y_test_clients\n",
    "\n",
    "def createModel():\n",
    "    model = models.Sequential()\n",
    "    model.add(layers.Conv2D(32, (3, 3), activation='relu', input_shape=(32, 32, 3)))\n",
    "    model.add(layers.MaxPooling2D((2, 2)))\n",
    "    model.add(layers.Conv2D(64, (3, 3), activation='relu'))\n",
    "    model.add(layers.Flatten())\n",
    "    model.add(layers.Dense(64, activation='relu'))\n",
    "    model.add(layers.Dense(10))\n",
    "    return model\n",
    "\n",
    "def trainModels(numClients):\n",
    "    models = []\n",
    "    for i in range(numClients):\n",
    "        print(\"Creating Model {0}\".format(i))\n",
    "        model = createModel()\n",
    "        model.compile(optimizer='adam', loss=tf.keras.losses.SparseCategoricalCrossentropy(from_logits=True),metrics=['accuracy'])\n",
    "        model.fit(x_train_clients[i], y_train_clients[i], epochs=10, verbose=0)\n",
    "        models.append(model)\n",
    "    print(\"Creating Total Model\")\n",
    "    model = createModel()\n",
    "    model.compile(optimizer='adam', loss=tf.keras.losses.SparseCategoricalCrossentropy(from_logits=True),metrics=['accuracy'])\n",
    "    model.fit(train_images, train_labels, epochs=10, verbose=0)\n",
    "    \n",
    "    return models, model\n",
    "\n",
    "def createZeroWeightCNN():\n",
    "    layer1 = [np.zeros(shape = (3,3,3,32), dtype = 'float32'), np.zeros(shape = 32, dtype = 'float32')]\n",
    "    layer2 = [np.zeros(shape = (3,3,32,64), dtype = 'float32'), np.zeros(shape = 64, dtype = 'float32')]\n",
    "    layer3 = [np.zeros(shape = (10816,64), dtype = 'float32'), np.zeros(shape = (64), dtype = 'float32')]\n",
    "    layer4 = [np.zeros(shape = (64,10), dtype = 'float32'), np.zeros(shape = (10), dtype = 'float32')]\n",
    "\n",
    "    testModel = models.Sequential()\n",
    "    testModel.add(layers.Conv2D(32, (3, 3), activation='relu', input_shape=(32, 32, 3)))\n",
    "    testModel.add(layers.MaxPooling2D((2, 2)))\n",
    "    testModel.add(layers.Conv2D(64, (3, 3), activation='relu'))\n",
    "    testModel.add(layers.Flatten())\n",
    "    testModel.add(layers.Dense(64, activation='relu'))\n",
    "    testModel.add(layers.Dense(10))\n",
    "    \n",
    "    testModel.layers[0].set_weights(layer1)\n",
    "    testModel.layers[2].set_weights(layer2)\n",
    "    testModel.layers[4].set_weights(layer3)\n",
    "    testModel.layers[5].set_weights(layer4)\n",
    "    testModel.compile(optimizer='adam', loss=tf.keras.losses.SparseCategoricalCrossentropy(from_logits=True),metrics=['accuracy'])\n",
    "    return testModel\n",
    "\n",
    "def fedAvg(models_,fedModel,numClients):\n",
    "    layers_ = []\n",
    "    layers_.append(models_[0].layers[0].weights)\n",
    "    layers_.append(models_[0].layers[2].weights)\n",
    "    layers_.append(models_[0].layers[4].weights)\n",
    "    layers_.append(models_[0].layers[5].weights)\n",
    "    layersNums = [0,2,4,5]    \n",
    "    \n",
    "    for x in range(len(layersNums)):\n",
    "        for y in range(len(layers_[x])):\n",
    "            layers_[x][y] = layers_[x][y]/numClients\n",
    "\n",
    "    for n in range(1,numClients):\n",
    "        count = 0\n",
    "        for i in layersNums:\n",
    "            for j in range(len(models_[0].layers[i].weights)):\n",
    "                layers_[count][j] = layers_[count][j] + (models_[n].layers[i].weights[j]/numClients)\n",
    "            count += 1\n",
    "    count = 0\n",
    "    for i in layersNums:\n",
    "        for j in range(len(models_[0].layers[i].weights)):\n",
    "            layers_[count][j] = (layers_[count][j] + fedModel.layers[i].weights[j])/2\n",
    "        count += 1\n",
    "    fedModel.layers[0].set_weights(layers_[0])\n",
    "    fedModel.layers[2].set_weights(layers_[1])\n",
    "    fedModel.layers[4].set_weights(layers_[2])\n",
    "    fedModel.layers[5].set_weights(layers_[3])\n",
    "    return fedModel\n",
    "\n",
    "def trainModelsFed(numClients, noEpochs,writer):\n",
    "    row = []\n",
    "    fedModel = createZeroWeightCNN()\n",
    "    models = []\n",
    "    for i in range(numClients):\n",
    "        model = createModel()\n",
    "        model.compile(optimizer='adam', loss=tf.keras.losses.SparseCategoricalCrossentropy(from_logits=True),metrics=['accuracy'])\n",
    "        models.append(model)\n",
    "        \n",
    "    start = timer()\n",
    "    for i in range(numClients):\n",
    "        models[i].fit(x_train_clients[i], y_train_clients[i], epochs=1, verbose=0)\n",
    "    fedModel = fedAvg(models,fedModel,numClients)\n",
    "    testModelsFed(0,fedModel,numClients,writer,start)\n",
    "    \n",
    "    for ep in range(1,noEpochs):\n",
    "        start = timer()\n",
    "        for i in range(numClients):\n",
    "            models[i] = fedModel\n",
    "            models[i].fit(x_train_clients[i], y_train_clients[i], epochs=1, verbose=0)\n",
    "        fedModel = fedAvg(models,fedModel,numClients)\n",
    "        testModelsFed(ep,fedModel,numClients,writer,start)\n",
    "\n",
    "    return fedModel, models\n",
    "\n",
    "def testModelsFed(ep,model,numClients,writer,start):\n",
    "    fedAcc = 0\n",
    "    for i in range(numClients):\n",
    "        loss, acc = model.evaluate(x_test_clients[i],  y_test_clients[i], verbose=0)\n",
    "        fedAcc += acc/numClients\n",
    "    end = timer()\n",
    "    print(\"Accuracy at Epoch {0} is = {1}\".format(ep,fedAcc))\n",
    "    writer.writerow([numClients, ep+1, fedAcc, end - start])\n",
    "    "
   ]
  },
  {
   "cell_type": "markdown",
   "id": "69b62921",
   "metadata": {},
   "source": [
    "Create the models here"
   ]
  },
  {
   "cell_type": "code",
   "execution_count": 70,
   "id": "95673d15",
   "metadata": {},
   "outputs": [
    {
     "name": "stdout",
     "output_type": "stream",
     "text": [
      "Running a federated system with 1 clients\n",
      "Accuracy at Epoch 0 is = 0.5005000233650208\n"
     ]
    }
   ],
   "source": [
    "os.environ['PYTHONHASHSEED']=str(2)\n",
    "tf.random.set_seed(2)\n",
    "np.random.seed(2)\n",
    "random.seed(2)\n",
    "f = open('./FCNNResults.csv', 'w', newline = '')\n",
    "header = ['NumClients', 'NumEpochs','FTA','Time']\n",
    "writer = csv.writer(f)\n",
    "writer.writerow(header)\n",
    "noEpochs = 10\n",
    "for nc in range(1,11):\n",
    "    x_train_clients, y_train_clients, x_test_clients, y_test_clients = splittingData(train_images, train_labels, test_images, test_labels, nc)\n",
    "    print(\"Running a federated system with {0} clients\".format(nc))\n",
    "    fedModel, finalLocalModels = trainModelsFed(nc, noEpochs, writer)\n",
    "f.close()"
   ]
  },
  {
   "cell_type": "markdown",
   "id": "1e918827",
   "metadata": {},
   "source": [
    "Plot and compare results here"
   ]
  },
  {
   "cell_type": "code",
   "execution_count": null,
   "id": "5e19b22a",
   "metadata": {},
   "outputs": [],
   "source": []
  }
 ],
 "metadata": {
  "kernelspec": {
   "display_name": "Python 3 (ipykernel)",
   "language": "python",
   "name": "python3"
  },
  "language_info": {
   "codemirror_mode": {
    "name": "ipython",
    "version": 3
   },
   "file_extension": ".py",
   "mimetype": "text/x-python",
   "name": "python",
   "nbconvert_exporter": "python",
   "pygments_lexer": "ipython3",
   "version": "3.11.5"
  }
 },
 "nbformat": 4,
 "nbformat_minor": 5
}
